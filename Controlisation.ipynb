{
 "cells": [
  {
   "cell_type": "markdown",
   "id": "0be7c877-7578-4cbb-8ff1-cd7d0d5918b3",
   "metadata": {
    "tags": []
   },
   "source": [
    "# Controlisation of Hamiltonian Simulation\n",
    "\n",
    "I try to construct not the circuit for $e^{iHt}$, but the controlled version of it. First of all, note that if we have $U = A \\cdot B \\cdot C$ circuit, where $A$, $B$ and $C$ are some operators, then the controlled version of that circuit will be equal to $cU = cA \\cdot cB \\cdot cC$, where $c$ denotes control version of an operator. We already know that in the Trotter decomposition $e^{iHt}$ consists of $e^{iPt}$ terms, where $P$ is a Pauli term. Therefore, the controlled version of the $e^{iHt}$ can be constructed with the controlled versions of the same $e^{iPt}$ terms. Here is a general form of the circuit that implements any given $e^{iPt}$ and the controlled version of it for the three-qubit case [[1]]:\n",
    "\n",
    "<img src=\"exp_pauli_and_controled.png\" alt=\"drawing\" width=\"670\"/>\n",
    "\n",
    "where $O_i$ are gates from the set $\\{I, H, H_y\\}$, and they are chosen differently for each Pauli term. The right circuit in the picture implements the controlled version of the $e^{iPt}$, because, if control qubit is in the $\\left| 0 \\right\\rangle$ state the $R_z$ gate will not work and the rest gates will cancel each other (they are self-inverse gates) [[1]]. \n",
    "\n",
    "The controlled-$e^{iIt}$ in the controlled-$e^{iHt}$ is not a global phase. Let's call it controlled-global phase gate ($CGP$). The effect of $CGP$ for controlled qubit $\\alpha \\left| 0_c \\right\\rangle + \\beta \\left| 1_c \\right\\rangle$ acting on multi-qubit $\\left| \\psi \\right\\rangle$ state:\n",
    "\n",
    "$$ CGP \\big( \\left( \\alpha \\left| 0_c \\right\\rangle + \\beta \\left| 1_c \\right\\rangle \\right) \\left| \\psi \\right\\rangle \\big) = \\left( \\alpha \\left| 0_c \\right\\rangle + e^{it}\\beta \\left| 1_c \\right\\rangle \\right) \\left| \\psi \\right\\rangle$$\n",
    "\n",
    "This action can be done just by one Qiskit's $u1$ phase gate acting on the control qubit [[2]]:\n",
    "\n",
    "$$ u1(t) \\otimes I \\big( \\left( \\alpha \\left| 0_c \\right\\rangle + \\beta \\left| 1_c \\right\\rangle \\right) \\left| \\psi \\right\\rangle \\big) = \\left( \\alpha \\left| 0_c \\right\\rangle + e^{it} \\beta \\left| 1_c \\right\\rangle \\right) \\left| \\psi \\right\\rangle,$$\n",
    "\n",
    "where\n",
    "\n",
    "$$u1(t) = \\begin{pmatrix} 1 & 0 \\\\ 0 & e^{it}\\end{pmatrix}$$\n",
    "\n",
    "  [1]: https://www.tandfonline.com/doi/abs/10.1080/00268976.2011.552441\n",
    "  [2]: https://www.cambridge.org/am/academic/subjects/physics/quantum-physics-quantum-information-and-quantum-computation/quantum-computation-and-quantum-information-10th-anniversary-edition?format=HB"
   ]
  },
  {
   "cell_type": "markdown",
   "id": "a9afa6e8-a6f5-47f7-a378-803e9ee14e9c",
   "metadata": {},
   "source": [
    "<h3 align=\"left\">\n",
    "The code\n",
    "</h3>\n",
    "\n",
    "Before going into Qiskit code, note that:\n",
    "\n",
    "\\begin{equation*}\n",
    "H_y = u2(\\pi/2, \\pi/2)\n",
    "\\qquad \\qquad\n",
    "H = u2(0, \\pi)\n",
    "\\\\\n",
    "u2(\\varphi, \\lambda) = \\frac{1}{\\sqrt{2}}\n",
    "\\begin{pmatrix}\n",
    "1 & -e^{i\\lambda} \\\\\n",
    "e^{i\\varphi} & e^{i(\\varphi + \\lambda)}\n",
    "\\end{pmatrix}\n",
    "\\end{equation*}\n",
    "\n",
    "So, I implement $H_y$ with $u2(\\pi/2, \\pi/2)$ gate in the code, where $u2$ is one of the Qiskit basis gates. For $H$ gate I use either $h$ gate or $u2(0, \\pi)$ gate in the code.\n",
    "\n",
    "Firstly let us define what Hamiltonian I want to simulate. Let's do simulation for this Hamiltonian:\n",
    "\n",
    "$$H = 2 \\cdot \\sigma_x \\otimes \\sigma_z \\otimes \\sigma_x + 5 \\cdot \\sigma_z \\otimes \\sigma_y \\otimes I + 7 \\cdot I \\otimes \\sigma_y \\otimes \\sigma_z$$\n",
    "\n",
    "It can be shown that all three terms commute to each other, thus we can write $e^{iHt}$ in this form without Trotter decomposition:\n",
    "\n",
    "$$e^{iHt} = e^{i2 \\cdot \\sigma_x \\otimes \\sigma_z \\otimes \\sigma_x t} \\; \\cdot \\; e^{i5 \\cdot \\sigma_z \\otimes \\sigma_y \\otimes I t} \\; \\cdot \\; e^{i7 \\cdot I \\otimes \\sigma_y \\otimes \\sigma_z t}$$\n",
    "\n",
    "The fact that we don't need to do Trotter decomposition will help us to have a simple circuit. Now let's start coding:"
   ]
  },
  {
   "cell_type": "code",
   "execution_count": 1,
   "id": "63515131-00b2-411e-9e6b-93bbda6bb6da",
   "metadata": {
    "tags": []
   },
   "outputs": [],
   "source": [
    "from qiskit import *\n",
    "import numpy as np"
   ]
  },
  {
   "cell_type": "code",
   "execution_count": 2,
   "id": "0456b1cc-2bc6-48eb-b75e-566c9bb177eb",
   "metadata": {
    "tags": []
   },
   "outputs": [],
   "source": [
    "def exp_all_z(circuit, quantum_register, pauli_idexes, control_qubit=None, t=1):\n",
    "    if len(pauli_idexes) == 0 and control_qubit is not None:\n",
    "        circuit.u1(t, control_qubit)\n",
    "        return\n",
    "\n",
    "    for i in range(len(pauli_idexes) - 1):\n",
    "        circuit.cx(quantum_register[pauli_idexes[i]], quantum_register[pauli_idexes[i + 1]])\n",
    "\n",
    "    if control_qubit is None:\n",
    "        circuit.rz(2 * t, quantum_register[pauli_idexes[-1]])\n",
    "    else:\n",
    "        circuit.crz(2 * t, control_qubit, quantum_register[pauli_idexes[-1]])\n",
    "\n",
    "    for i in reversed(range(len(pauli_idexes) - 1)):\n",
    "        circuit.cx(quantum_register[pauli_idexes[i]], quantum_register[pauli_idexes[i + 1]])"
   ]
  },
  {
   "cell_type": "code",
   "execution_count": 3,
   "id": "b43879f2-ea92-40fc-a0a0-7be208ca8602",
   "metadata": {
    "tags": []
   },
   "outputs": [],
   "source": [
    "def exp_pauli(pauli, quantum_register, control_qubit=None, t=1):\n",
    "    if len(pauli) != len(quantum_register):\n",
    "        raise Exception(\"Pauli string doesn't match to the quantum register\")\n",
    "\n",
    "    pauli_circuit = QuantumCircuit(quantum_register)\n",
    "    circuit_bracket = QuantumCircuit(quantum_register)\n",
    "    pauli_idexes = []\n",
    "\n",
    "    for i in range(len(quantum_register)):\n",
    "        if pauli[i] == 'I':\n",
    "            continue\n",
    "        elif pauli[i] == 'Z':\n",
    "            pauli_idexes.append(i)\n",
    "        elif pauli[i] == 'X':\n",
    "            circuit_bracket.h(quantum_register[i])\n",
    "            pauli_idexes.append(i)\n",
    "        elif pauli[i] == 'Y':\n",
    "            circuit_bracket.u(np.pi / 2, np.pi / 2, 0, quantum_register[i])\n",
    "            pauli_idexes.append(i)\n",
    "\n",
    "    pauli_circuit = pauli_circuit.compose(circuit_bracket)\n",
    "    exp_all_z(pauli_circuit, quantum_register, pauli_idexes, control_qubit, t)\n",
    "    pauli_circuit = pauli_circuit.compose(circuit_bracket.inverse())\n",
    "\n",
    "    return pauli_circuit"
   ]
  },
  {
   "cell_type": "code",
   "execution_count": 4,
   "id": "a462d6ea-7f9a-4672-82bc-fe140cecbdec",
   "metadata": {
    "tags": []
   },
   "outputs": [],
   "source": [
    "def hamiltonian_simulation(hamiltonian, quantum_register=None, control_qubit=None, t=1, trotter_number=1):\n",
    "    if quantum_register is None:\n",
    "        quantum_register = QuantumRegister(len(list(hamiltonian.keys())[0]))\n",
    "    if control_qubit in quantum_register:\n",
    "        raise Exception(\"the control qubit is in the target register\")\n",
    "\n",
    "    delta_t = t / trotter_number\n",
    "    exp_hamiltonian = QuantumCircuit(quantum_register)\n",
    "\n",
    "    for i in range(trotter_number):\n",
    "        exp_delta_t = QuantumCircuit(quantum_register)\n",
    "        for pauli in hamiltonian:\n",
    "            weight = hamiltonian[pauli]\n",
    "            exp_delta_t = exp_delta_t.compose(exp_pauli(pauli, quantum_register, control_qubit, weight * delta_t))\n",
    "        exp_hamiltonian = exp_hamiltonian.compose(exp_delta_t)\n",
    "\n",
    "    return exp_hamiltonian"
   ]
  },
  {
   "cell_type": "code",
   "execution_count": 5,
   "id": "d02f4bf0-565f-4a27-984c-fc86edac13ff",
   "metadata": {
    "tags": []
   },
   "outputs": [
    {
     "data": {
      "image/png": "[encoded data removed]",
      "text/plain": [
       "<Figure size 1625.27x284.278 with 1 Axes>"
      ]
     },
     "execution_count": 5,
     "metadata": {},
     "output_type": "execute_result"
    }
   ],
   "source": [
    "# Example usage\n",
    "hamiltonian = {\"XZX\": 2, \"ZYI\": 5, \"IYZ\": 7}\n",
    "quantum_register = QuantumRegister(3, 'q')\n",
    "circuit = hamiltonian_simulation(hamiltonian, quantum_register, t=1/(2*np.pi))\n",
    "\n",
    "# draw the circuit \n",
    "%matplotlib inline\n",
    "circuit.draw(output=\"mpl\")"
   ]
  },
  {
   "cell_type": "code",
   "execution_count": 10,
   "id": "b32e34ec-19e6-4aad-ad59-da930e7aeea4",
   "metadata": {},
   "outputs": [],
   "source": [
    "# # Add the control qubit to the same circuit\n",
    "# control_qubit = QuantumRegister(1, 'c')\n",
    "\n",
    "# control_circuit = QuantumCircuit(quantum_register, control_qubit)\n",
    "# # Assuming the function takes a circuit as an argument\n",
    "# hamiltonian_circuit = hamiltonian_simulation(hamiltonian, quantum_register, control_qubit[0], t=1/(2*np.pi))\n",
    "\n",
    "# # Append the resulting circuit to the combined circuit\n",
    "# combined_circuit.append(hamiltonian_circuit, quantum_register)\n",
    "# # Draw the final circuit\n",
    "# combined_circuit.draw(output=\"mpl\") "
   ]
  },
  {
   "cell_type": "code",
   "execution_count": null,
   "id": "163ff918-b239-440e-8488-69700a615acd",
   "metadata": {},
   "outputs": [],
   "source": []
  }
 ],
 "metadata": {
  "kernelspec": {
   "display_name": "Python 3 (ipykernel)",
   "language": "python",
   "name": "python3"
  },
  "language_info": {
   "codemirror_mode": {
    "name": "ipython",
    "version": 3
   },
   "file_extension": ".py",
   "mimetype": "text/x-python",
   "name": "python",
   "nbconvert_exporter": "python",
   "pygments_lexer": "ipython3",
   "version": "3.11.5"
  }
 },
 "nbformat": 4,
 "nbformat_minor": 5
}
